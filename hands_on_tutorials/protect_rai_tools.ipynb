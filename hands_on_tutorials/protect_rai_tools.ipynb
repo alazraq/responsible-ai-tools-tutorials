{
 "cells": [
  {
   "cell_type": "markdown",
   "id": "1659639f-a9e2-438c-b297-fed922ab1bd0",
   "metadata": {},
   "source": [
    "# Tools to understand the behavior of ML algorithms - Hands-on tutorials"
   ]
  },
  {
   "cell_type": "markdown",
   "id": "067eb9fc-4199-4ac3-af63-20bf2c75aa17",
   "metadata": {},
   "source": [
    "In this notebook, we provide step-by-step guides for geting started using 2 Microsoft Responsible AI techniques for protecting AI systems data:\n",
    "\n",
    "- **Data Anonymization** with [Presidio](https://github.com/Microsoft/presidio)\n",
    "- **Differencial Privacy** with the [SmartNoise system](https://github.com/opendp/smartnoise-core)\n",
    "\n",
    "These are inspired by the example notebooks provided in each repo, and are meant to get aggregate all these tools into a single document to get you started as quickly as possible."
   ]
  },
  {
   "cell_type": "markdown",
   "id": "00defb99-5be6-48da-826d-92aa360603cd",
   "metadata": {},
   "source": [
    "## Presidio"
   ]
  },
  {
   "cell_type": "markdown",
   "id": "f2225023-965d-48f4-907e-7bb4bd7d4f9e",
   "metadata": {},
   "source": [
    "Presidio is a data protection and anonymization SDK for text and images providing fast identification and anonymization of private entities in text such as credit card numbers, names, locations, social security numbers, bitcoin wallets, US phone numbers, financial data and more.\n",
    "\n",
    "In this tutorial, we introduce two of Presidio's modules, namely \n",
    "1. **Presidio analyzer** for custom or predefined PII detection in text, leveraging Named Entity Recognition, regular expressions, rule-based logic, and checksum with relevant context in multiple languages, and \n",
    "2. **Presidio anonymizer** which is the module allowing anonymization of the detected PII entities using different operators. "
   ]
  },
  {
   "cell_type": "markdown",
   "id": "ffa36abd-410a-4056-86ae-01cfeca4bb86",
   "metadata": {},
   "source": [
    "To get there, we follow 4 simple steps to show how Presidio works.\n",
    "\n",
    "**Step 1:** Installing the presidio_analyzer and presidio_anonymizer libraries using pip along with the spaCy English language model needed by the analyzer."
   ]
  },
  {
   "cell_type": "code",
   "execution_count": 1,
   "id": "bf267da1-4fdb-4725-9f87-1a35c7486bdf",
   "metadata": {},
   "outputs": [],
   "source": [
    "# Installing packages if not already done\n",
    "# !pip install presidio_analyzer \n",
    "# !pip install presidio_anonymizer\n",
    "\n",
    "# Presidio analyzer requires a spaCy language model. \n",
    "# !python -m spacy download en_core_web_lg\n",
    "\n",
    "# Importing the required modules\n",
    "from presidio_analyzer import AnalyzerEngine, PatternRecognizer\n",
    "from presidio_anonymizer import AnonymizerEngine\n",
    "from presidio_anonymizer.entities.engine import OperatorConfig"
   ]
  },
  {
   "cell_type": "markdown",
   "id": "6a18767c-591e-45fb-aa46-6e63da2bb041",
   "metadata": {},
   "source": [
    "**Step 2:** Once the presidio-analyzer package is installed, run this simple analysis script. This will print the result of the PII analysis, in this case the detected phone numbers in the provided text."
   ]
  },
  {
   "cell_type": "code",
   "execution_count": 2,
   "id": "3119e682-5256-4536-b582-977ca36f8032",
   "metadata": {},
   "outputs": [
    {
     "name": "stderr",
     "output_type": "stream",
     "text": [
      "[2021-07-19 13:41:26,573] [WARNING] [W108] The rule-based lemmatizer did not find POS annotation for the token 'His'. Check that your pipeline includes components that assign token.pos, typically 'tagger'+'attribute_ruler' or 'morphologizer'.\n",
      "[2021-07-19 13:41:26,577] [WARNING] [W108] The rule-based lemmatizer did not find POS annotation for the token 'name'. Check that your pipeline includes components that assign token.pos, typically 'tagger'+'attribute_ruler' or 'morphologizer'.\n",
      "[2021-07-19 13:41:26,579] [WARNING] [W108] The rule-based lemmatizer did not find POS annotation for the token 'is'. Check that your pipeline includes components that assign token.pos, typically 'tagger'+'attribute_ruler' or 'morphologizer'.\n",
      "[2021-07-19 13:41:26,581] [WARNING] [W108] The rule-based lemmatizer did not find POS annotation for the token 'Mr.'. Check that your pipeline includes components that assign token.pos, typically 'tagger'+'attribute_ruler' or 'morphologizer'.\n",
      "[2021-07-19 13:41:26,582] [WARNING] [W108] The rule-based lemmatizer did not find POS annotation for the token 'Jones'. Check that your pipeline includes components that assign token.pos, typically 'tagger'+'attribute_ruler' or 'morphologizer'.\n",
      "[2021-07-19 13:41:26,584] [WARNING] [W108] The rule-based lemmatizer did not find POS annotation for the token 'and'. Check that your pipeline includes components that assign token.pos, typically 'tagger'+'attribute_ruler' or 'morphologizer'.\n",
      "[2021-07-19 13:41:26,585] [WARNING] [W108] The rule-based lemmatizer did not find POS annotation for the token 'his'. Check that your pipeline includes components that assign token.pos, typically 'tagger'+'attribute_ruler' or 'morphologizer'.\n",
      "[2021-07-19 13:41:26,586] [WARNING] [W108] The rule-based lemmatizer did not find POS annotation for the token 'phone'. Check that your pipeline includes components that assign token.pos, typically 'tagger'+'attribute_ruler' or 'morphologizer'.\n",
      "[2021-07-19 13:41:26,588] [WARNING] [W108] The rule-based lemmatizer did not find POS annotation for the token 'number'. Check that your pipeline includes components that assign token.pos, typically 'tagger'+'attribute_ruler' or 'morphologizer'.\n",
      "[2021-07-19 13:41:26,589] [WARNING] [W108] The rule-based lemmatizer did not find POS annotation for the token 'is'. Check that your pipeline includes components that assign token.pos, typically 'tagger'+'attribute_ruler' or 'morphologizer'.\n",
      "[2021-07-19 13:41:26,591] [WARNING] [W108] The rule-based lemmatizer did not find POS annotation for the token '212'. Check that your pipeline includes components that assign token.pos, typically 'tagger'+'attribute_ruler' or 'morphologizer'.\n",
      "[2021-07-19 13:41:26,592] [WARNING] [W108] The rule-based lemmatizer did not find POS annotation for the token '-'. Check that your pipeline includes components that assign token.pos, typically 'tagger'+'attribute_ruler' or 'morphologizer'.\n",
      "[2021-07-19 13:41:26,593] [WARNING] [W108] The rule-based lemmatizer did not find POS annotation for the token '555'. Check that your pipeline includes components that assign token.pos, typically 'tagger'+'attribute_ruler' or 'morphologizer'.\n",
      "[2021-07-19 13:41:26,595] [WARNING] [W108] The rule-based lemmatizer did not find POS annotation for the token '-'. Check that your pipeline includes components that assign token.pos, typically 'tagger'+'attribute_ruler' or 'morphologizer'.\n",
      "[2021-07-19 13:41:26,598] [WARNING] [W108] The rule-based lemmatizer did not find POS annotation for the token '5555'. Check that your pipeline includes components that assign token.pos, typically 'tagger'+'attribute_ruler' or 'morphologizer'.\n"
     ]
    },
    {
     "name": "stdout",
     "output_type": "stream",
     "text": [
      "[type: PHONE_NUMBER, start: 46, end: 58, score: 1.0]\n"
     ]
    }
   ],
   "source": [
    "text_to_anonymize = \"His name is Mr. Jones and his phone number is 212-555-5555\"\n",
    "analyzer = AnalyzerEngine()\n",
    "analyzer_results = analyzer.analyze(text=text_to_anonymize, entities=[\"PHONE_NUMBER\"], language='en')\n",
    "\n",
    "print(analyzer_results)"
   ]
  },
  {
   "cell_type": "markdown",
   "id": "08ff134e-bc90-47cb-a9cd-7722e954d023",
   "metadata": {},
   "source": [
    "**Step 3:**  Creating Custom PII Entity Recognizers."
   ]
  },
  {
   "cell_type": "code",
   "execution_count": 8,
   "id": "ebdba327-fdc1-49ad-a131-c808fd3bb3c0",
   "metadata": {},
   "outputs": [
    {
     "name": "stderr",
     "output_type": "stream",
     "text": [
      "[2021-07-19 13:48:34,249] [WARNING] [W108] The rule-based lemmatizer did not find POS annotation for the token 'His'. Check that your pipeline includes components that assign token.pos, typically 'tagger'+'attribute_ruler' or 'morphologizer'.\n",
      "[2021-07-19 13:48:34,251] [WARNING] [W108] The rule-based lemmatizer did not find POS annotation for the token 'name'. Check that your pipeline includes components that assign token.pos, typically 'tagger'+'attribute_ruler' or 'morphologizer'.\n",
      "[2021-07-19 13:48:34,253] [WARNING] [W108] The rule-based lemmatizer did not find POS annotation for the token 'is'. Check that your pipeline includes components that assign token.pos, typically 'tagger'+'attribute_ruler' or 'morphologizer'.\n",
      "[2021-07-19 13:48:34,254] [WARNING] [W108] The rule-based lemmatizer did not find POS annotation for the token 'Mr.'. Check that your pipeline includes components that assign token.pos, typically 'tagger'+'attribute_ruler' or 'morphologizer'.\n",
      "[2021-07-19 13:48:34,255] [WARNING] [W108] The rule-based lemmatizer did not find POS annotation for the token 'Jones'. Check that your pipeline includes components that assign token.pos, typically 'tagger'+'attribute_ruler' or 'morphologizer'.\n",
      "[2021-07-19 13:48:34,256] [WARNING] [W108] The rule-based lemmatizer did not find POS annotation for the token 'and'. Check that your pipeline includes components that assign token.pos, typically 'tagger'+'attribute_ruler' or 'morphologizer'.\n",
      "[2021-07-19 13:48:34,257] [WARNING] [W108] The rule-based lemmatizer did not find POS annotation for the token 'his'. Check that your pipeline includes components that assign token.pos, typically 'tagger'+'attribute_ruler' or 'morphologizer'.\n",
      "[2021-07-19 13:48:34,258] [WARNING] [W108] The rule-based lemmatizer did not find POS annotation for the token 'phone'. Check that your pipeline includes components that assign token.pos, typically 'tagger'+'attribute_ruler' or 'morphologizer'.\n",
      "[2021-07-19 13:48:34,259] [WARNING] [W108] The rule-based lemmatizer did not find POS annotation for the token 'number'. Check that your pipeline includes components that assign token.pos, typically 'tagger'+'attribute_ruler' or 'morphologizer'.\n",
      "[2021-07-19 13:48:34,260] [WARNING] [W108] The rule-based lemmatizer did not find POS annotation for the token 'is'. Check that your pipeline includes components that assign token.pos, typically 'tagger'+'attribute_ruler' or 'morphologizer'.\n",
      "[2021-07-19 13:48:34,261] [WARNING] [W108] The rule-based lemmatizer did not find POS annotation for the token '212'. Check that your pipeline includes components that assign token.pos, typically 'tagger'+'attribute_ruler' or 'morphologizer'.\n",
      "[2021-07-19 13:48:34,262] [WARNING] [W108] The rule-based lemmatizer did not find POS annotation for the token '-'. Check that your pipeline includes components that assign token.pos, typically 'tagger'+'attribute_ruler' or 'morphologizer'.\n",
      "[2021-07-19 13:48:34,263] [WARNING] [W108] The rule-based lemmatizer did not find POS annotation for the token '555'. Check that your pipeline includes components that assign token.pos, typically 'tagger'+'attribute_ruler' or 'morphologizer'.\n",
      "[2021-07-19 13:48:34,264] [WARNING] [W108] The rule-based lemmatizer did not find POS annotation for the token '-'. Check that your pipeline includes components that assign token.pos, typically 'tagger'+'attribute_ruler' or 'morphologizer'.\n",
      "[2021-07-19 13:48:34,266] [WARNING] [W108] The rule-based lemmatizer did not find POS annotation for the token '5555'. Check that your pipeline includes components that assign token.pos, typically 'tagger'+'attribute_ruler' or 'morphologizer'.\n"
     ]
    },
    {
     "data": {
      "text/plain": [
       "[type: TITLE, start: 12, end: 15, score: 1.0,\n",
       " type: PRONOUN, start: 26, end: 29, score: 1.0,\n",
       " type: PHONE_NUMBER, start: 46, end: 58, score: 1.0,\n",
       " type: PERSON, start: 16, end: 21, score: 0.85]"
      ]
     },
     "execution_count": 8,
     "metadata": {},
     "output_type": "execute_result"
    }
   ],
   "source": [
    "from presidio_analyzer import PatternRecognizer\n",
    "\n",
    "text_to_anonymize = \"His name is Mr. Jones and his phone number is 212-555-5555\" \n",
    "titles_recognizer = PatternRecognizer(supported_entity=\"TITLE\",\n",
    "                                      deny_list=[\"Mr.\",\"Mrs.\",\"Miss\"])\n",
    "pronoun_recognizer = PatternRecognizer(supported_entity=\"PRONOUN\",\n",
    "                                      deny_list=[\"he\", \"his\", \"she\", \"hers\"])\n",
    "analyzer.registry.add_recognizer(titles_recognizer)\n",
    "analyzer.registry.add_recognizer(pronoun_recognizer)\n",
    "\n",
    "analyzer_results = analyzer.analyze(text=text_to_anonymize, language='en')\n",
    "\n",
    "analyzer_results"
   ]
  },
  {
   "cell_type": "markdown",
   "id": "b412feb6-ba4f-4331-a3c5-6129d55b91a4",
   "metadata": {},
   "source": [
    "The previous code sample:\n",
    "1. Creates custom titles and pronouns recognizers.\n",
    "2. Adds the new custom recognizers to the analyzer.\n",
    "3. Calls analyzer to get results from the old and new recognizers.\n",
    "\n",
    "It prints all the PII detected including titles and pronouns we just defined."
   ]
  },
  {
   "cell_type": "markdown",
   "id": "91723dbd-5fea-4b72-bcb2-cae7441bb3bc",
   "metadata": {},
   "source": [
    "**Step 4:**  Anonymizing the identified PII entities."
   ]
  },
  {
   "cell_type": "code",
   "execution_count": 9,
   "id": "5653d198-67db-42da-833d-04a2360a20c6",
   "metadata": {},
   "outputs": [
    {
     "data": {
      "text/plain": [
       "'{\"text\": \"His name is  <ANONYMIZED> and <ANONYMIZED> phone number is ************\", \"items\": [{\"start\": 59, \"end\": 71, \"entity_type\": \"PHONE_NUMBER\", \"text\": \"************\", \"operator\": \"mask\"}, {\"start\": 30, \"end\": 42, \"entity_type\": \"PRONOUN\", \"text\": \"<ANONYMIZED>\", \"operator\": \"replace\"}, {\"start\": 13, \"end\": 25, \"entity_type\": \"PERSON\", \"text\": \"<ANONYMIZED>\", \"operator\": \"replace\"}, {\"start\": 12, \"end\": 12, \"entity_type\": \"TITLE\", \"text\": \"\", \"operator\": \"redact\"}]}'"
      ]
     },
     "execution_count": 9,
     "metadata": {},
     "output_type": "execute_result"
    }
   ],
   "source": [
    "\n",
    "from presidio_anonymizer import AnonymizerEngine\n",
    "from presidio_anonymizer.entities.engine import OperatorConfig\n",
    "\n",
    "\n",
    "anonymizer = AnonymizerEngine()\n",
    "\n",
    "\n",
    "anonymized_results = anonymizer.anonymize(\n",
    "    text=text_to_anonymize,\n",
    "    analyzer_results=analyzer_results,    \n",
    "    operators={\"DEFAULT\": OperatorConfig(\"replace\", {\"new_value\": \"<ANONYMIZED>\"}), \n",
    "               \"PHONE_NUMBER\": OperatorConfig(\"mask\", {\"type\": \"mask\", \"masking_char\" : \"*\", \"chars_to_mask\" : 12, \"from_end\" : True}),\n",
    "                \"TITLE\": OperatorConfig(\"redact\", {})}\n",
    ")\n",
    "\n",
    "anonymized_results.to_json()\n"
   ]
  },
  {
   "cell_type": "markdown",
   "id": "9a1dd937-a9a7-4ff2-8100-f7774588685d",
   "metadata": {},
   "source": [
    "The previous code sample:\n",
    "1. Sets up the anonymizer engine.\n",
    "2. Creates an anonymizer request - text to anonymize, list of anonymizers to apply and the results from the analyzer request.\n",
    "3. Anonymizes the text.\n",
    "\n",
    "It prints the anonymized text along with a list of the detected PII entities."
   ]
  },
  {
   "cell_type": "markdown",
   "id": "60990d0c-486c-432c-8519-303645159576",
   "metadata": {},
   "source": [
    "## SmartNoise"
   ]
  },
  {
   "cell_type": "markdown",
   "id": "646a0abf-89fe-4d23-9cce-dc2e53253685",
   "metadata": {},
   "source": [
    "### What is SmartNoise?\n",
    "\n",
    "**SmartNoise** is a joint project by Microsoft and Harvard's Institute for Quantitative Social Science (IQSS) and the School of Engineering and Applied Sciences (SEAS) as part of the OpenDP initiative. It aims to make Differential Privacy broadly accessible.\n",
    "\n",
    "The SmartNoise tools primarily focus on the \"global model\" of **Differential Privacy** where a trusted data collector is presumed to have access to unprotected data and wishes to protect public releases of aggregate information. For example, a hospital having access to patients’ information and wishing to release aggregated statistics about these patients without affecting their privacy.\n",
    "\n",
    "SmartNoise is an open-source project that contains different components for building global differentially private systems. SmartNoise is made up of a core library and an SDK, only the [SmartNoise core library](https://github.com/opendp/smartnoise-core) is explored here."
   ]
  },
  {
   "cell_type": "markdown",
   "id": "3130dffc-e76b-4bd7-a155-317a58c0c5e9",
   "metadata": {},
   "source": [
    "### Goal of this tutorial and steps\n",
    "\n",
    "In this tutorial, we will explore how data can be protected against reidentification using Differential Privacy and the SmartNoise system.\n",
    "The goal is to show how an attacker can leverage basic demographic information like age and zip codes to reidentify individuals even when the sensitive data is published in an anonymized format. Then we show how Differential Privacy can help prevent such an attack. \n",
    "\n",
    "To get there, we follow 3 steps:\n",
    "1. Import of anonymized medical data set and the attacker's data collection\n",
    "2. Reidentification Attack I: Revealing identities from the anonymized data set \n",
    "3. Protecting the medical dataset with differential privacy using Multiple Weights Exponential Mechanism (MWEM)\n",
    "4. Validating the utility of the synthesized data set for statistical analyses\n",
    "5. Reidentification Attack II: Trying to reveal identities based on the differentially private version of the medical data set\n"
   ]
  },
  {
   "cell_type": "markdown",
   "id": "c070e924-ebc9-4777-ae71-7477cd4582ae",
   "metadata": {},
   "source": [
    "**Step 1:** Import of anonymized medical data set and the attacker's data collection"
   ]
  },
  {
   "cell_type": "code",
   "execution_count": 1,
   "id": "4479a116-4920-47a4-bfcd-f7b506fba8fe",
   "metadata": {},
   "outputs": [],
   "source": [
    "# Install required libraries, uncomment if needed\n",
    "# !pip install git+https://github.com/opendifferentialprivacy/smartnoise-sdk#subdirectory=sdk\n",
    "# !pip install faker zipcodes tqdm opendp-smartnoise\n",
    "# !pip install z3-solver==4.8.9.0"
   ]
  },
  {
   "cell_type": "code",
   "execution_count": 5,
   "id": "30854a3e-16b2-42ab-a678-1e57d24669d2",
   "metadata": {},
   "outputs": [
    {
     "name": "stdout",
     "output_type": "stream",
     "text": [
      "The autoreload extension is already loaded. To reload it, use:\n",
      "  %reload_ext autoreload\n"
     ]
    }
   ],
   "source": [
    "import warnings\n",
    "warnings.filterwarnings(\"ignore\")\n",
    "\n",
    "import logging\n",
    "logger = logging.getLogger()\n",
    "logger.setLevel(logging.INFO)\n",
    "import pandas as pd\n",
    "import numpy as np\n",
    "import random\n",
    "import string\n",
    "import uuid\n",
    "import time\n",
    "import logging\n",
    "from datetime import datetime\n",
    "import matplotlib.pyplot as plt\n",
    "from tqdm import tqdm\n",
    "import utils.reident_tools as reident\n",
    "from opendp.smartnoise.synthesizers.mwem import MWEMSynthesizer\n",
    "\n",
    "%config InlineBackend.figure_format = 'retina'\n",
    "%load_ext autoreload\n",
    "%autoreload 2"
   ]
  },
  {
   "cell_type": "code",
   "execution_count": 6,
   "id": "85b7df4a-b8ce-440c-a697-91c0bb6d1ceb",
   "metadata": {},
   "outputs": [
    {
     "name": "stdout",
     "output_type": "stream",
     "text": [
      "Anonymized dataset including sensitive medical information:\n"
     ]
    },
    {
     "data": {
      "text/html": [
       "<div>\n",
       "<style scoped>\n",
       "    .dataframe tbody tr th:only-of-type {\n",
       "        vertical-align: middle;\n",
       "    }\n",
       "\n",
       "    .dataframe tbody tr th {\n",
       "        vertical-align: top;\n",
       "    }\n",
       "\n",
       "    .dataframe thead th {\n",
       "        text-align: right;\n",
       "    }\n",
       "</style>\n",
       "<table border=\"1\" class=\"dataframe\">\n",
       "  <thead>\n",
       "    <tr style=\"text-align: right;\">\n",
       "      <th></th>\n",
       "      <th>Gender</th>\n",
       "      <th>Age</th>\n",
       "      <th>Zip</th>\n",
       "      <th>Diagnosis</th>\n",
       "      <th>Treatment</th>\n",
       "      <th>Outcome</th>\n",
       "    </tr>\n",
       "  </thead>\n",
       "  <tbody>\n",
       "    <tr>\n",
       "      <th>8339</th>\n",
       "      <td>M</td>\n",
       "      <td>30-39</td>\n",
       "      <td>191**</td>\n",
       "      <td>High Blood Pressure</td>\n",
       "      <td>28</td>\n",
       "      <td>recovered</td>\n",
       "    </tr>\n",
       "    <tr>\n",
       "      <th>22238</th>\n",
       "      <td>F</td>\n",
       "      <td>80-89</td>\n",
       "      <td>756**</td>\n",
       "      <td>Alzheimer</td>\n",
       "      <td>38</td>\n",
       "      <td>recovered</td>\n",
       "    </tr>\n",
       "    <tr>\n",
       "      <th>24310</th>\n",
       "      <td>M</td>\n",
       "      <td>30-39</td>\n",
       "      <td>361**</td>\n",
       "      <td>High Blood Pressure</td>\n",
       "      <td>31</td>\n",
       "      <td>unchanged</td>\n",
       "    </tr>\n",
       "    <tr>\n",
       "      <th>3030</th>\n",
       "      <td>M</td>\n",
       "      <td>70-79</td>\n",
       "      <td>936**</td>\n",
       "      <td>High Blood Pressure</td>\n",
       "      <td>31</td>\n",
       "      <td>unchanged</td>\n",
       "    </tr>\n",
       "    <tr>\n",
       "      <th>21656</th>\n",
       "      <td>M</td>\n",
       "      <td>20-29</td>\n",
       "      <td>091**</td>\n",
       "      <td>COPD</td>\n",
       "      <td>26</td>\n",
       "      <td>intensive care</td>\n",
       "    </tr>\n",
       "    <tr>\n",
       "      <th>24267</th>\n",
       "      <td>F</td>\n",
       "      <td>80-89</td>\n",
       "      <td>777**</td>\n",
       "      <td>Arthritis</td>\n",
       "      <td>25</td>\n",
       "      <td>intensive care</td>\n",
       "    </tr>\n",
       "    <tr>\n",
       "      <th>1510</th>\n",
       "      <td>M</td>\n",
       "      <td>40-49</td>\n",
       "      <td>100**</td>\n",
       "      <td>Heart Disease</td>\n",
       "      <td>45</td>\n",
       "      <td>recovered</td>\n",
       "    </tr>\n",
       "    <tr>\n",
       "      <th>4077</th>\n",
       "      <td>F</td>\n",
       "      <td>50-59</td>\n",
       "      <td>218**</td>\n",
       "      <td>Stroke</td>\n",
       "      <td>24</td>\n",
       "      <td>recovered</td>\n",
       "    </tr>\n",
       "  </tbody>\n",
       "</table>\n",
       "</div>"
      ],
      "text/plain": [
       "      Gender    Age    Zip            Diagnosis  Treatment         Outcome\n",
       "8339       M  30-39  191**  High Blood Pressure         28       recovered\n",
       "22238      F  80-89  756**            Alzheimer         38       recovered\n",
       "24310      M  30-39  361**  High Blood Pressure         31       unchanged\n",
       "3030       M  70-79  936**  High Blood Pressure         31       unchanged\n",
       "21656      M  20-29  091**                 COPD         26  intensive care\n",
       "24267      F  80-89  777**            Arthritis         25  intensive care\n",
       "1510       M  40-49  100**        Heart Disease         45       recovered\n",
       "4077       F  50-59  218**               Stroke         24       recovered"
      ]
     },
     "metadata": {},
     "output_type": "display_data"
    },
    {
     "name": "stdout",
     "output_type": "stream",
     "text": [
      "Attacker`s data collection with basic demographic information:\n"
     ]
    },
    {
     "data": {
      "text/html": [
       "<div>\n",
       "<style scoped>\n",
       "    .dataframe tbody tr th:only-of-type {\n",
       "        vertical-align: middle;\n",
       "    }\n",
       "\n",
       "    .dataframe tbody tr th {\n",
       "        vertical-align: top;\n",
       "    }\n",
       "\n",
       "    .dataframe thead th {\n",
       "        text-align: right;\n",
       "    }\n",
       "</style>\n",
       "<table border=\"1\" class=\"dataframe\">\n",
       "  <thead>\n",
       "    <tr style=\"text-align: right;\">\n",
       "      <th></th>\n",
       "      <th>Name</th>\n",
       "      <th>Gender</th>\n",
       "      <th>Age</th>\n",
       "      <th>Zip</th>\n",
       "    </tr>\n",
       "  </thead>\n",
       "  <tbody>\n",
       "    <tr>\n",
       "      <th>15268</th>\n",
       "      <td>Cory Logan</td>\n",
       "      <td>M</td>\n",
       "      <td>72</td>\n",
       "      <td>20842</td>\n",
       "    </tr>\n",
       "    <tr>\n",
       "      <th>2169</th>\n",
       "      <td>John Turner</td>\n",
       "      <td>M</td>\n",
       "      <td>56</td>\n",
       "      <td>39852</td>\n",
       "    </tr>\n",
       "    <tr>\n",
       "      <th>12222</th>\n",
       "      <td>Kimberly Rose</td>\n",
       "      <td>F</td>\n",
       "      <td>89</td>\n",
       "      <td>99019</td>\n",
       "    </tr>\n",
       "    <tr>\n",
       "      <th>27085</th>\n",
       "      <td>Jeffrey Small</td>\n",
       "      <td>M</td>\n",
       "      <td>78</td>\n",
       "      <td>49573</td>\n",
       "    </tr>\n",
       "    <tr>\n",
       "      <th>5414</th>\n",
       "      <td>Benjamin Barry</td>\n",
       "      <td>M</td>\n",
       "      <td>42</td>\n",
       "      <td>58290</td>\n",
       "    </tr>\n",
       "    <tr>\n",
       "      <th>7104</th>\n",
       "      <td>Lisa Juarez</td>\n",
       "      <td>F</td>\n",
       "      <td>77</td>\n",
       "      <td>66542</td>\n",
       "    </tr>\n",
       "    <tr>\n",
       "      <th>20039</th>\n",
       "      <td>Teresa Wu</td>\n",
       "      <td>F</td>\n",
       "      <td>16</td>\n",
       "      <td>14246</td>\n",
       "    </tr>\n",
       "    <tr>\n",
       "      <th>2751</th>\n",
       "      <td>Scott Potter</td>\n",
       "      <td>M</td>\n",
       "      <td>83</td>\n",
       "      <td>57883</td>\n",
       "    </tr>\n",
       "  </tbody>\n",
       "</table>\n",
       "</div>"
      ],
      "text/plain": [
       "                 Name Gender  Age    Zip\n",
       "15268      Cory Logan      M   72  20842\n",
       "2169      John Turner      M   56  39852\n",
       "12222   Kimberly Rose      F   89  99019\n",
       "27085   Jeffrey Small      M   78  49573\n",
       "5414   Benjamin Barry      M   42  58290\n",
       "7104      Lisa Juarez      F   77  66542\n",
       "20039       Teresa Wu      F   16  14246\n",
       "2751     Scott Potter      M   83  57883"
      ]
     },
     "metadata": {},
     "output_type": "display_data"
    }
   ],
   "source": [
    "# Read files\n",
    "df_medical = pd.read_csv('data/data_medical.csv', sep=\",\", encoding=\"utf-8\").infer_objects()\n",
    "df_medical['Zip'] = df_medical['Zip'].astype(str)\n",
    "print('Anonymized dataset including sensitive medical information:')\n",
    "display(df_medical.iloc[:,1:].sample(8))\n",
    "df_demographic = pd.read_csv('data/data_demographic.csv', sep=\",\", encoding=\"utf-8\").infer_objects()\n",
    "print('Attacker`s data collection with basic demographic information:')\n",
    "df_demographic['Zip'] = df_demographic['Zip'].astype(str)\n",
    "display(df_demographic.iloc[:,1:].sample(8))\n",
    "df_medical_synth = pd.read_csv('data/data_medical_synthesizer.csv', sep=\",\", encoding=\"utf-8\").infer_objects()\n",
    "df_medical_synth['Zip'] = df_medical_synth['Zip'].astype(str)"
   ]
  },
  {
   "cell_type": "markdown",
   "id": "3c81bbf6-858d-4019-9634-6b37bfdf10dd",
   "metadata": {},
   "source": [
    "**Step 2:** Reidentification Attack I: Revealing identities from the anonymized data set"
   ]
  },
  {
   "cell_type": "code",
   "execution_count": 7,
   "id": "47fc6a73-9d89-458b-bb72-e6a6a3d5c896",
   "metadata": {},
   "outputs": [
    {
     "name": "stderr",
     "output_type": "stream",
     "text": [
      "INFO:root:Performing reidentification with anonymized data: 30000. Attacker collection: 30000\n",
      "100%|████████████████████████████████████████████████████████████████████████████| 30000/30000 [20:25<00:00, 24.48it/s]\n",
      "INFO:root:Identified 28962 potential matches!\n",
      "INFO:root:Validating IDs ...\n",
      "100%|██████████████████████████████████████████████████████████████████████████| 28962/28962 [00:02<00:00, 9843.51it/s]\n",
      "INFO:root:Identified 9026 actual (validated) matches!\n"
     ]
    },
    {
     "name": "stdout",
     "output_type": "stream",
     "text": [
      "Wall time: 20min 28s\n"
     ]
    }
   ],
   "source": [
    "%%time\n",
    "reident_attack = reident.try_reidentification(df_demographic, df_medical, logger)"
   ]
  },
  {
   "cell_type": "code",
   "execution_count": 8,
   "id": "1cc3734d-c464-4545-beba-ebd2ade4b1f0",
   "metadata": {},
   "outputs": [
    {
     "name": "stdout",
     "output_type": "stream",
     "text": [
      "Found: 9026 actual (validated) matches!\n"
     ]
    }
   ],
   "source": [
    "print(f'Found: {len(reident_attack[reident_attack[\"ID_Match\"]==True])} actual (validated) matches!')"
   ]
  },
  {
   "cell_type": "markdown",
   "id": "231d3aa8-d95f-49b0-b88f-77a24a0dd5ee",
   "metadata": {},
   "source": [
    "**Step 3:** Protecting the medical dataset with differential privacy using Multiple Weights Exponential Mechanism (MWEM)\n",
    "\n",
    "First we encode the input data using the do_encode-function to make it compatible with the MWEM synthesizer. Data before encoding looks like this."
   ]
  },
  {
   "cell_type": "code",
   "execution_count": 9,
   "id": "fdad51a3-0799-494a-90e4-7da170871d50",
   "metadata": {},
   "outputs": [
    {
     "data": {
      "text/html": [
       "<div>\n",
       "<style scoped>\n",
       "    .dataframe tbody tr th:only-of-type {\n",
       "        vertical-align: middle;\n",
       "    }\n",
       "\n",
       "    .dataframe tbody tr th {\n",
       "        vertical-align: top;\n",
       "    }\n",
       "\n",
       "    .dataframe thead th {\n",
       "        text-align: right;\n",
       "    }\n",
       "</style>\n",
       "<table border=\"1\" class=\"dataframe\">\n",
       "  <thead>\n",
       "    <tr style=\"text-align: right;\">\n",
       "      <th></th>\n",
       "      <th>Gender</th>\n",
       "      <th>Age</th>\n",
       "      <th>Zip</th>\n",
       "      <th>Diagnosis</th>\n",
       "      <th>Treatment</th>\n",
       "      <th>Outcome</th>\n",
       "    </tr>\n",
       "  </thead>\n",
       "  <tbody>\n",
       "    <tr>\n",
       "      <th>0</th>\n",
       "      <td>F</td>\n",
       "      <td>10</td>\n",
       "      <td>65418</td>\n",
       "      <td>High Blood Pressure</td>\n",
       "      <td>25</td>\n",
       "      <td>intensive care</td>\n",
       "    </tr>\n",
       "    <tr>\n",
       "      <th>1</th>\n",
       "      <td>F</td>\n",
       "      <td>14</td>\n",
       "      <td>65475</td>\n",
       "      <td>COPD</td>\n",
       "      <td>48</td>\n",
       "      <td>unchanged</td>\n",
       "    </tr>\n",
       "    <tr>\n",
       "      <th>2</th>\n",
       "      <td>F</td>\n",
       "      <td>10</td>\n",
       "      <td>65484</td>\n",
       "      <td>High Blood Pressure</td>\n",
       "      <td>38</td>\n",
       "      <td>intensive care</td>\n",
       "    </tr>\n",
       "    <tr>\n",
       "      <th>3</th>\n",
       "      <td>F</td>\n",
       "      <td>30</td>\n",
       "      <td>27727</td>\n",
       "      <td>Heart Disease</td>\n",
       "      <td>31</td>\n",
       "      <td>unchanged</td>\n",
       "    </tr>\n",
       "    <tr>\n",
       "      <th>4</th>\n",
       "      <td>F</td>\n",
       "      <td>36</td>\n",
       "      <td>27772</td>\n",
       "      <td>Diabetes</td>\n",
       "      <td>34</td>\n",
       "      <td>unchanged</td>\n",
       "    </tr>\n",
       "  </tbody>\n",
       "</table>\n",
       "</div>"
      ],
      "text/plain": [
       "  Gender  Age    Zip            Diagnosis  Treatment         Outcome\n",
       "0      F   10  65418  High Blood Pressure         25  intensive care\n",
       "1      F   14  65475                 COPD         48       unchanged\n",
       "2      F   10  65484  High Blood Pressure         38  intensive care\n",
       "3      F   30  27727        Heart Disease         31       unchanged\n",
       "4      F   36  27772             Diabetes         34       unchanged"
      ]
     },
     "execution_count": 9,
     "metadata": {},
     "output_type": "execute_result"
    }
   ],
   "source": [
    "# Prepare data set for reidentification, using the medical data set and the full zip copied from the demographic set\n",
    "df_reident_synth = df_medical[['Gender', 'Age', 'Zip', 'Diagnosis', 'Treatment', 'Outcome']].copy()\n",
    "df_reident_synth['Zip'] = df_demographic['Zip'].copy()\n",
    "df_reident_synth['Age'] = df_demographic['Age'].copy()\n",
    "df_reident_synth.head()"
   ]
  },
  {
   "cell_type": "markdown",
   "id": "97d4821c-3f1d-4508-a2a6-40996c0ee3dd",
   "metadata": {},
   "source": [
    "Data after encoding looks like this:"
   ]
  },
  {
   "cell_type": "code",
   "execution_count": 10,
   "id": "8483656f-d712-40d7-b7cd-133a9de10eb1",
   "metadata": {},
   "outputs": [
    {
     "data": {
      "text/html": [
       "<div>\n",
       "<style scoped>\n",
       "    .dataframe tbody tr th:only-of-type {\n",
       "        vertical-align: middle;\n",
       "    }\n",
       "\n",
       "    .dataframe tbody tr th {\n",
       "        vertical-align: top;\n",
       "    }\n",
       "\n",
       "    .dataframe thead th {\n",
       "        text-align: right;\n",
       "    }\n",
       "</style>\n",
       "<table border=\"1\" class=\"dataframe\">\n",
       "  <thead>\n",
       "    <tr style=\"text-align: right;\">\n",
       "      <th></th>\n",
       "      <th>Gender_encoded</th>\n",
       "      <th>Age_encoded</th>\n",
       "      <th>Zip_encoded</th>\n",
       "      <th>Diagnosis_encoded</th>\n",
       "    </tr>\n",
       "  </thead>\n",
       "  <tbody>\n",
       "    <tr>\n",
       "      <th>0</th>\n",
       "      <td>0</td>\n",
       "      <td>10</td>\n",
       "      <td>65418</td>\n",
       "      <td>9</td>\n",
       "    </tr>\n",
       "    <tr>\n",
       "      <th>1</th>\n",
       "      <td>0</td>\n",
       "      <td>14</td>\n",
       "      <td>65475</td>\n",
       "      <td>2</td>\n",
       "    </tr>\n",
       "    <tr>\n",
       "      <th>2</th>\n",
       "      <td>0</td>\n",
       "      <td>10</td>\n",
       "      <td>65484</td>\n",
       "      <td>9</td>\n",
       "    </tr>\n",
       "    <tr>\n",
       "      <th>3</th>\n",
       "      <td>0</td>\n",
       "      <td>30</td>\n",
       "      <td>27727</td>\n",
       "      <td>7</td>\n",
       "    </tr>\n",
       "    <tr>\n",
       "      <th>4</th>\n",
       "      <td>0</td>\n",
       "      <td>36</td>\n",
       "      <td>27772</td>\n",
       "      <td>3</td>\n",
       "    </tr>\n",
       "  </tbody>\n",
       "</table>\n",
       "</div>"
      ],
      "text/plain": [
       "   Gender_encoded  Age_encoded  Zip_encoded  Diagnosis_encoded\n",
       "0               0           10        65418                  9\n",
       "1               0           14        65475                  2\n",
       "2               0           10        65484                  9\n",
       "3               0           30        27727                  7\n",
       "4               0           36        27772                  3"
      ]
     },
     "execution_count": 10,
     "metadata": {},
     "output_type": "execute_result"
    }
   ],
   "source": [
    "# Encode the data set and display it\n",
    "df_reident_encoded = reident.do_encode(df_reident_synth, ['Gender', 'Age', 'Zip', 'Diagnosis'], reident.diseases)\n",
    "df_reident_encoded.head()"
   ]
  },
  {
   "cell_type": "markdown",
   "id": "a78e8151-3521-4f5a-b874-974fe2aee2df",
   "metadata": {},
   "source": [
    "Now we are ready for synthesizing the fake demographic data:"
   ]
  },
  {
   "cell_type": "code",
   "execution_count": 11,
   "id": "1927d8fb-9082-4370-b124-1d8a33aef91f",
   "metadata": {},
   "outputs": [
    {
     "name": "stdout",
     "output_type": "stream",
     "text": [
      "Wall time: 12.4 s\n"
     ]
    }
   ],
   "source": [
    "%%time\n",
    "# Apply the synthesizer to the data set\n",
    "synthetic_data = MWEMSynthesizer(q_count = 400,\n",
    "                        epsilon = 3.00,\n",
    "                        iterations = 60,\n",
    "                        mult_weights_iterations = 40,\n",
    "                        splits = [],\n",
    "                        split_factor = 1)\n",
    "synthetic_data.fit(df_reident_encoded.to_numpy())\n",
    "# Convert to dataframe\n",
    "df_synthesized = pd.DataFrame(synthetic_data.sample(int(df_reident_encoded.shape[0])), columns=df_reident_encoded.columns)"
   ]
  },
  {
   "cell_type": "markdown",
   "id": "a04add95-e6fb-4f7c-b61c-77e3e9563081",
   "metadata": {},
   "source": [
    "Then we compare the distributions of both datasets:"
   ]
  },
  {
   "cell_type": "code",
   "execution_count": 13,
   "id": "62973fbf-f1b4-43e9-8f17-3d54ef998f35",
   "metadata": {},
   "outputs": [
    {
     "data": {
      "image/png": "[encoded data removed]",
      "text/plain": [
       "<Figure size 1080x576 with 1 Axes>"
      ]
     },
     "metadata": {
      "image/png": {
       "height": 485,
       "width": 912
      },
      "needs_background": "light"
     },
     "output_type": "display_data"
    }
   ],
   "source": [
    "reident.create_histogram(df_reident_encoded, df_synthesized, 'Diagnosis_encoded', reident.diseases)"
   ]
  },
  {
   "cell_type": "markdown",
   "id": "afd2f34d-d272-41c5-898e-469b1d5f2d26",
   "metadata": {},
   "source": [
    "**Step 4:** Reidentification Attack II - Trying to reveal identities based on the differentially private version of the medical data set"
   ]
  },
  {
   "cell_type": "code",
   "execution_count": 14,
   "id": "6984fb24-9f2c-48ad-8630-968779719593",
   "metadata": {},
   "outputs": [
    {
     "name": "stderr",
     "output_type": "stream",
     "text": [
      "INFO:root:Trying reidentification with differential privacy-protected data: 30000. Attacker collection: 30000\n",
      "INFO:root:In this setup, we can only count potential matches. We cannot validate for actual matches, as we do not have the unique patient ids after synthesizing.\n",
      "100%|███████████████████████████████████████████████████████████████████████████| 30000/30000 [03:31<00:00, 141.52it/s]\n",
      "INFO:root:Identified 0 potential matches!\n"
     ]
    }
   ],
   "source": [
    "reident_attack_2 = reident.try_reidentification_noise(df_synthesized, df_medical_synth, logger)"
   ]
  },
  {
   "cell_type": "code",
   "execution_count": 15,
   "id": "716eb340-45e2-4893-8bdc-959a5e434024",
   "metadata": {},
   "outputs": [
    {
     "name": "stdout",
     "output_type": "stream",
     "text": [
      "Found 0 potential matches!\n"
     ]
    },
    {
     "data": {
      "text/html": [
       "<div>\n",
       "<style scoped>\n",
       "    .dataframe tbody tr th:only-of-type {\n",
       "        vertical-align: middle;\n",
       "    }\n",
       "\n",
       "    .dataframe tbody tr th {\n",
       "        vertical-align: top;\n",
       "    }\n",
       "\n",
       "    .dataframe thead th {\n",
       "        text-align: right;\n",
       "    }\n",
       "</style>\n",
       "<table border=\"1\" class=\"dataframe\">\n",
       "  <thead>\n",
       "    <tr style=\"text-align: right;\">\n",
       "      <th></th>\n",
       "      <th>ID</th>\n",
       "      <th>Gender</th>\n",
       "      <th>Age</th>\n",
       "      <th>Zip</th>\n",
       "      <th>Diagnosis</th>\n",
       "      <th>Treatment</th>\n",
       "      <th>Outcome</th>\n",
       "    </tr>\n",
       "  </thead>\n",
       "  <tbody>\n",
       "  </tbody>\n",
       "</table>\n",
       "</div>"
      ],
      "text/plain": [
       "Empty DataFrame\n",
       "Columns: [ID, Gender, Age, Zip, Diagnosis, Treatment, Outcome]\n",
       "Index: []"
      ]
     },
     "execution_count": 15,
     "metadata": {},
     "output_type": "execute_result"
    }
   ],
   "source": [
    "print(f'Found {len(reident_attack_2)} potential matches!')\n",
    "reident_attack_2.head()"
   ]
  },
  {
   "cell_type": "markdown",
   "id": "e33d724b-517e-4277-baa4-5402276540ca",
   "metadata": {},
   "source": [
    "This time, we were able to reidentify no records at all using the synthesized. This demonstrates the magic behind Differential Privacy, it allows to protect against reidentification attacks by masking individual contributions and providing mathematical guarantees of privacy, while still preserving the distribution and thus summary statistics of the data."
   ]
  }
 ],
 "metadata": {
  "kernelspec": {
   "display_name": "Python 3",
   "language": "python",
   "name": "python3"
  },
  "language_info": {
   "codemirror_mode": {
    "name": "ipython",
    "version": 3
   },
   "file_extension": ".py",
   "mimetype": "text/x-python",
   "name": "python",
   "nbconvert_exporter": "python",
   "pygments_lexer": "ipython3",
   "version": "3.9.5"
  }
 },
 "nbformat": 4,
 "nbformat_minor": 5
}
